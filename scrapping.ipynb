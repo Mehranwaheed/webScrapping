{
 "cells": [
  {
   "cell_type": "code",
   "execution_count": 85,
   "id": "2fb02c86",
   "metadata": {},
   "outputs": [],
   "source": [
    "import pandas as pd\n",
    "import requests\n",
    "from bs4 import BeautifulSoup\n",
    "import numpy as np\n",
    "import openpyxl as xls"
   ]
  },
  {
   "cell_type": "code",
   "execution_count": 5,
   "id": "2698c6d0",
   "metadata": {},
   "outputs": [],
   "source": [
    "webpage=requests.get(\"https://www.imdb.com/chart/top/?ref_=nv_mv_250\",).text"
   ]
  },
  {
   "cell_type": "code",
   "execution_count": 6,
   "id": "cf35e10c",
   "metadata": {},
   "outputs": [],
   "source": [
    "soup=BeautifulSoup(webpage,'lxml')"
   ]
  },
  {
   "cell_type": "code",
   "execution_count": 55,
   "id": "d38c846e",
   "metadata": {},
   "outputs": [],
   "source": [
    "rank_and_title=[]\n",
    "for i in soup.find_all('td',class_='titleColumn'):\n",
    "    rank_and_title.append(i.text.strip())\n",
    "\n"
   ]
  },
  {
   "cell_type": "code",
   "execution_count": 83,
   "id": "e59b59ca",
   "metadata": {},
   "outputs": [],
   "source": [
    "rank_and_title_new=np.char.replace(rank_and_title,'\\n','')"
   ]
  },
  {
   "cell_type": "code",
   "execution_count": 57,
   "id": "88a7b0fe",
   "metadata": {},
   "outputs": [],
   "source": [
    "rating=[]\n",
    "for j in soup.find_all('td',class_='ratingColumn imdbRating'):\n",
    "    rating.append(j.text.strip())"
   ]
  },
  {
   "cell_type": "code",
   "execution_count": 59,
   "id": "422c4352",
   "metadata": {},
   "outputs": [
    {
     "data": {
      "text/plain": [
       "250"
      ]
     },
     "execution_count": 59,
     "metadata": {},
     "output_type": "execute_result"
    }
   ],
   "source": [
    "len(rating)"
   ]
  },
  {
   "cell_type": "code",
   "execution_count": 75,
   "id": "417cf5ac",
   "metadata": {},
   "outputs": [],
   "source": [
    "d={\"Rank & Title\":rank_and_title_new, \"Rating\":rating}"
   ]
  },
  {
   "cell_type": "code",
   "execution_count": 76,
   "id": "23d6de1b",
   "metadata": {},
   "outputs": [],
   "source": [
    "df=pd.DataFrame(d)"
   ]
  },
  {
   "cell_type": "code",
   "execution_count": 86,
   "id": "f326a0db",
   "metadata": {},
   "outputs": [],
   "source": [
    "excel_file=pd.ExcelWriter(\"IMDB TOP 250.xlsx\")"
   ]
  },
  {
   "cell_type": "code",
   "execution_count": 87,
   "id": "9cfba0b8",
   "metadata": {},
   "outputs": [],
   "source": [
    "df.to_excel(excel_file)"
   ]
  },
  {
   "cell_type": "code",
   "execution_count": 88,
   "id": "e8f3bfe7",
   "metadata": {},
   "outputs": [],
   "source": [
    "excel_file.save()"
   ]
  }
 ],
 "metadata": {
  "kernelspec": {
   "display_name": "Python 3 (ipykernel)",
   "language": "python",
   "name": "python3"
  },
  "language_info": {
   "codemirror_mode": {
    "name": "ipython",
    "version": 3
   },
   "file_extension": ".py",
   "mimetype": "text/x-python",
   "name": "python",
   "nbconvert_exporter": "python",
   "pygments_lexer": "ipython3",
   "version": "3.9.13"
  }
 },
 "nbformat": 4,
 "nbformat_minor": 5
}
